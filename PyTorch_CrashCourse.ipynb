{
  "nbformat": 4,
  "nbformat_minor": 0,
  "metadata": {
    "colab": {
      "provenance": [],
      "gpuType": "T4",
      "authorship_tag": "ABX9TyOByFtfG0inBn8ZmqXuGvEW",
      "include_colab_link": true
    },
    "kernelspec": {
      "name": "python3",
      "display_name": "Python 3"
    },
    "language_info": {
      "name": "python"
    },
    "accelerator": "GPU"
  },
  "cells": [
    {
      "cell_type": "markdown",
      "metadata": {
        "id": "view-in-github",
        "colab_type": "text"
      },
      "source": [
        "<a href=\"https://colab.research.google.com/github/Masahiro-459/machine_learning/blob/main/PyTorch_CrashCourse.ipynb\" target=\"_parent\"><img src=\"https://colab.research.google.com/assets/colab-badge.svg\" alt=\"Open In Colab\"/></a>"
      ]
    },
    {
      "cell_type": "markdown",
      "source": [
        "https://www.youtube.com/watch?v=OIenNRt2bjg\n",
        "このビデオからpytorchの基礎を学ぶ\n",
        "# Tensor basics\n",
        "Everything in PyTorch is based on Tensor operations. A Tensor is a multi-dimensional matrix containing elements of a single data type:"
      ],
      "metadata": {
        "id": "O_qVxTpwg5T0"
      }
    },
    {
      "cell_type": "code",
      "source": [
        "import torch\n",
        "\n",
        "# torch.empty(size): uninitallized\n",
        "x = torch.empty(1) # scalar\n",
        "print(\"empty(1):\", x)"
      ],
      "metadata": {
        "colab": {
          "base_uri": "https://localhost:8080/"
        },
        "id": "SmXnQ8IqgYTW",
        "outputId": "7c70bfba-ed80-4888-ccae-41b9d909e334"
      },
      "execution_count": null,
      "outputs": [
        {
          "output_type": "stream",
          "name": "stdout",
          "text": [
            "empty(1): tensor([0.])\n"
          ]
        }
      ]
    },
    {
      "cell_type": "markdown",
      "source": [
        "初期化されていないテンソルを作成"
      ],
      "metadata": {
        "id": "Ej5bj_sKjDRm"
      }
    },
    {
      "cell_type": "code",
      "source": [
        "torch.empty(3) # vector"
      ],
      "metadata": {
        "colab": {
          "base_uri": "https://localhost:8080/"
        },
        "id": "tCCsPcbOhWo6",
        "outputId": "938c3ecd-ecae-4204-9485-1987c01c6d1b"
      },
      "execution_count": null,
      "outputs": [
        {
          "output_type": "execute_result",
          "data": {
            "text/plain": [
              "tensor([6.1319e-30, 3.1916e-41, 6.0608e-30])"
            ]
          },
          "metadata": {},
          "execution_count": 8
        }
      ]
    },
    {
      "cell_type": "code",
      "source": [
        "torch.empty(2 ,3) # matrix"
      ],
      "metadata": {
        "colab": {
          "base_uri": "https://localhost:8080/"
        },
        "id": "5ZK3QBdfhwKl",
        "outputId": "f4c4cc1c-69ec-4829-8a6b-37e2c40d94c4"
      },
      "execution_count": null,
      "outputs": [
        {
          "output_type": "execute_result",
          "data": {
            "text/plain": [
              "tensor([[6.1291e-30, 3.1916e-41, 6.1321e-30],\n",
              "        [3.1916e-41, 8.9683e-44, 0.0000e+00]])"
            ]
          },
          "metadata": {},
          "execution_count": 5
        }
      ]
    },
    {
      "cell_type": "code",
      "source": [
        "torch.empty(2, 2, 3) # tensor, 3 dimensions"
      ],
      "metadata": {
        "colab": {
          "base_uri": "https://localhost:8080/"
        },
        "id": "izCGZ0Prh17_",
        "outputId": "b6439ba1-30d8-40aa-b951-11cb91cb596c"
      },
      "execution_count": null,
      "outputs": [
        {
          "output_type": "execute_result",
          "data": {
            "text/plain": [
              "tensor([[[2.1707e-18, 7.0952e+22, 1.7748e+28],\n",
              "         [1.8176e+31, 7.2708e+31, 5.0778e+31]],\n",
              "\n",
              "        [[3.2608e-12, 1.7728e+28, 7.0367e+22],\n",
              "         [2.1715e-18, 4.2659e-08, 1.0781e-08]]])"
            ]
          },
          "metadata": {},
          "execution_count": 6
        }
      ]
    },
    {
      "cell_type": "markdown",
      "source": [
        "0-1の間でランダムな値を持つテンソルを作成"
      ],
      "metadata": {
        "id": "OTBT-AxAjKGv"
      }
    },
    {
      "cell_type": "code",
      "source": [
        "# torch.rand(size): random numbers [0, 1]\n",
        "torch.rand(5, 3)"
      ],
      "metadata": {
        "colab": {
          "base_uri": "https://localhost:8080/"
        },
        "id": "R62L-Ba6iBZ-",
        "outputId": "3eaa2ce6-5531-44ee-feb9-b6d65c038861"
      },
      "execution_count": null,
      "outputs": [
        {
          "output_type": "execute_result",
          "data": {
            "text/plain": [
              "tensor([[0.7916, 0.6245, 0.1909],\n",
              "        [0.3011, 0.1269, 0.1275],\n",
              "        [0.4697, 0.1613, 0.2449],\n",
              "        [0.2598, 0.7005, 0.5405],\n",
              "        [0.7591, 0.5256, 0.3157]])"
            ]
          },
          "metadata": {},
          "execution_count": 9
        }
      ]
    },
    {
      "cell_type": "markdown",
      "source": [
        "ゼロパディング"
      ],
      "metadata": {
        "id": "Qve6WE6JjeMw"
      }
    },
    {
      "cell_type": "code",
      "source": [
        "# torch.zeros(size)\n",
        "torch.zeros(5,3)"
      ],
      "metadata": {
        "colab": {
          "base_uri": "https://localhost:8080/"
        },
        "id": "lSpEMs2ni5Uu",
        "outputId": "74da0125-c313-4625-8e75-f91545d3e6e5"
      },
      "execution_count": null,
      "outputs": [
        {
          "output_type": "execute_result",
          "data": {
            "text/plain": [
              "tensor([[0., 0., 0.],\n",
              "        [0., 0., 0.],\n",
              "        [0., 0., 0.],\n",
              "        [0., 0., 0.],\n",
              "        [0., 0., 0.]])"
            ]
          },
          "metadata": {},
          "execution_count": 10
        }
      ]
    },
    {
      "cell_type": "code",
      "source": [
        "# torch.ones(size)\n",
        "torch.ones(5, 3)"
      ],
      "metadata": {
        "colab": {
          "base_uri": "https://localhost:8080/"
        },
        "id": "m25UmJPVjt4E",
        "outputId": "582f9586-8ba9-42f4-e91d-18b86a310cee"
      },
      "execution_count": null,
      "outputs": [
        {
          "output_type": "execute_result",
          "data": {
            "text/plain": [
              "tensor([[1., 1., 1.],\n",
              "        [1., 1., 1.],\n",
              "        [1., 1., 1.],\n",
              "        [1., 1., 1.],\n",
              "        [1., 1., 1.]])"
            ]
          },
          "metadata": {},
          "execution_count": 11
        }
      ]
    },
    {
      "cell_type": "markdown",
      "source": [
        "テンソルのサイズを調べる"
      ],
      "metadata": {
        "id": "flkxpy4mkAsn"
      }
    },
    {
      "cell_type": "code",
      "source": [
        "x = torch.empty(2,3)\n",
        "x.size()"
      ],
      "metadata": {
        "colab": {
          "base_uri": "https://localhost:8080/"
        },
        "id": "93-Sbv1lj0CP",
        "outputId": "f7f4ecd1-c902-41f8-cb99-946f2e5c888b"
      },
      "execution_count": null,
      "outputs": [
        {
          "output_type": "execute_result",
          "data": {
            "text/plain": [
              "torch.Size([2, 3])"
            ]
          },
          "metadata": {},
          "execution_count": 12
        }
      ]
    },
    {
      "cell_type": "code",
      "source": [
        "x.shape"
      ],
      "metadata": {
        "colab": {
          "base_uri": "https://localhost:8080/"
        },
        "id": "ZxVXNuv0kLgZ",
        "outputId": "8a959eac-36c2-498c-e08b-56a91c1cb132"
      },
      "execution_count": null,
      "outputs": [
        {
          "output_type": "execute_result",
          "data": {
            "text/plain": [
              "torch.Size([2, 3])"
            ]
          },
          "metadata": {},
          "execution_count": 13
        }
      ]
    },
    {
      "cell_type": "code",
      "source": [
        "# 上記二つの方法でシェイプを調べたら、添字を使うことで特定の数にアクセスできる\n",
        "x.shape[1]"
      ],
      "metadata": {
        "colab": {
          "base_uri": "https://localhost:8080/"
        },
        "id": "4Rj5gFyckO7G",
        "outputId": "b7a22224-e80e-4b05-f4f6-abe77d48c3ec"
      },
      "execution_count": null,
      "outputs": [
        {
          "output_type": "execute_result",
          "data": {
            "text/plain": [
              "3"
            ]
          },
          "metadata": {},
          "execution_count": 14
        }
      ]
    },
    {
      "cell_type": "markdown",
      "source": [
        "データ型を調べる float32がデフォルト"
      ],
      "metadata": {
        "id": "vzNW-DbMkkFk"
      }
    },
    {
      "cell_type": "code",
      "source": [
        "x.dtype"
      ],
      "metadata": {
        "colab": {
          "base_uri": "https://localhost:8080/"
        },
        "id": "ruUrRcfAkfZY",
        "outputId": "d08faf60-8f69-4bc6-a6a2-45cc0b3167ed"
      },
      "execution_count": null,
      "outputs": [
        {
          "output_type": "execute_result",
          "data": {
            "text/plain": [
              "torch.float32"
            ]
          },
          "metadata": {},
          "execution_count": 16
        }
      ]
    },
    {
      "cell_type": "markdown",
      "source": [
        "型を変更することもできる"
      ],
      "metadata": {
        "id": "VeEnXUJ2kz9e"
      }
    },
    {
      "cell_type": "code",
      "source": [
        "x_f16 = torch.zeros( 5, 3, dtype=torch.float16)\n",
        "x_f16.dtype"
      ],
      "metadata": {
        "colab": {
          "base_uri": "https://localhost:8080/"
        },
        "id": "c-wWSzf3kpTv",
        "outputId": "b8ad5a6c-7cc9-438b-c943-6c67bf6542e3"
      },
      "execution_count": null,
      "outputs": [
        {
          "output_type": "execute_result",
          "data": {
            "text/plain": [
              "torch.float16"
            ]
          },
          "metadata": {},
          "execution_count": 3
        }
      ]
    },
    {
      "cell_type": "markdown",
      "source": [
        "リストからテンソルを作る"
      ],
      "metadata": {
        "id": "JNepUy08yseG"
      }
    },
    {
      "cell_type": "code",
      "source": [
        "# construct from data\n",
        "x = torch.tensor([5.5,3])\n",
        "print(x, x.dtype)"
      ],
      "metadata": {
        "colab": {
          "base_uri": "https://localhost:8080/"
        },
        "id": "j0hWf6ZKlN0Z",
        "outputId": "d62b4d21-9f2b-47ae-a9b9-88a506baea58"
      },
      "execution_count": null,
      "outputs": [
        {
          "output_type": "stream",
          "name": "stdout",
          "text": [
            "tensor([5.5000, 3.0000]) torch.float32\n"
          ]
        }
      ]
    },
    {
      "cell_type": "markdown",
      "source": [
        "テンソルはrequires_grad=True という引数を持つことができる"
      ],
      "metadata": {
        "id": "QpZXGct8zLKm"
      }
    },
    {
      "cell_type": "code",
      "source": [
        "# requires_grad argument\n",
        "# this will tell pytorch that it will need to caluculate the gradients for this tensor\n",
        "# later in your optimization steps\n",
        "# i.e. this is a variable in your model that you want to optimize\n",
        "x = torch.tensor([5.5, 3], requires_grad=True)\n",
        "print(x)"
      ],
      "metadata": {
        "colab": {
          "base_uri": "https://localhost:8080/"
        },
        "id": "iU0J41Bly31N",
        "outputId": "4a2ab3f1-fa4b-4b3b-bba6-1bd39d707c7c"
      },
      "execution_count": null,
      "outputs": [
        {
          "output_type": "stream",
          "name": "stdout",
          "text": [
            "tensor([5.5000, 3.0000], requires_grad=True)\n"
          ]
        }
      ]
    },
    {
      "cell_type": "markdown",
      "source": [
        "## Operations with Tensors"
      ],
      "metadata": {
        "id": "ncKl-W3dzySm"
      }
    },
    {
      "cell_type": "code",
      "source": [
        "x = torch.ones(2, 2)\n",
        "y = torch.rand(2, 2)\n",
        "\n",
        "z = x + y\n",
        "# torch.add(x, y)\n",
        "# y.add_(x)\n",
        "print(x)\n",
        "print(y)\n",
        "print(z)"
      ],
      "metadata": {
        "colab": {
          "base_uri": "https://localhost:8080/"
        },
        "id": "Fo1u5vWfzgPU",
        "outputId": "f0319121-3afd-48bb-fb74-84084cffb903"
      },
      "execution_count": null,
      "outputs": [
        {
          "output_type": "stream",
          "name": "stdout",
          "text": [
            "tensor([[1., 1.],\n",
            "        [1., 1.]])\n",
            "tensor([[0.3049, 0.9018],\n",
            "        [0.6943, 0.7895]])\n",
            "tensor([[1.3049, 1.9018],\n",
            "        [1.6943, 1.7895]])\n"
          ]
        }
      ]
    },
    {
      "cell_type": "code",
      "source": [
        "x = torch.ones(2,2)\n",
        "y = torch.tensor([[2,2],[1,1]])\n",
        "\n",
        "# subtraction\n",
        "z = x - y\n",
        "print(z)\n",
        "# z = torch.sub(x, y)\n",
        "\n",
        "# multiplication　これは掛け算というか、要素ごとの積であるアダマール積\n",
        "z = x * y\n",
        "# z = torch.mul(x, y)　これもアダマール除算\n",
        "print(z)\n",
        "\n",
        "# divison\n",
        "z = x / y\n",
        "# z = torch.div(x ,y)\n",
        "print(z)"
      ],
      "metadata": {
        "colab": {
          "base_uri": "https://localhost:8080/"
        },
        "id": "88LwwT_D0VhK",
        "outputId": "f64908d4-e203-40a8-cfff-c36e4f367aa6"
      },
      "execution_count": null,
      "outputs": [
        {
          "output_type": "stream",
          "name": "stdout",
          "text": [
            "tensor([[-1., -1.],\n",
            "        [ 0.,  0.]])\n",
            "tensor([[2., 2.],\n",
            "        [1., 1.]])\n",
            "tensor([[0.5000, 0.5000],\n",
            "        [1.0000, 1.0000]])\n"
          ]
        }
      ]
    },
    {
      "cell_type": "markdown",
      "source": [
        "テンソルのスライス"
      ],
      "metadata": {
        "id": "ZLIV8vHC6znc"
      }
    },
    {
      "cell_type": "code",
      "source": [
        "# Slicing\n",
        "x = torch.rand(5,3)\n",
        "print(x)\n",
        "print(\"x[:, 0]\", x[:, 0]) # all rows, column 0\n",
        "print(\"x[1, :]\",x[1, :]) # row 1, all columns\n",
        "print(\"x[1,1]\",x[1,1]) # element at 1, 1\n",
        "\n",
        "# Get the actual value if only 1 element in your tensor\n",
        "print(\"x[1,1].item()\",x[1,1].item()) # 一つ上の行ではtensorオブジェクトだったが、数値として出てきた"
      ],
      "metadata": {
        "colab": {
          "base_uri": "https://localhost:8080/"
        },
        "id": "DJeaHRFR1OFB",
        "outputId": "d04c3cdb-bff4-4b57-a0bc-b235705f2b3a"
      },
      "execution_count": null,
      "outputs": [
        {
          "output_type": "stream",
          "name": "stdout",
          "text": [
            "tensor([[0.8752, 0.3502, 0.7509],\n",
            "        [0.2623, 0.9283, 0.4906],\n",
            "        [0.9200, 0.0507, 0.7833],\n",
            "        [0.3642, 0.7589, 0.5861],\n",
            "        [0.3723, 0.5461, 0.9213]])\n",
            "x[:, 0] tensor([0.8752, 0.2623, 0.9200, 0.3642, 0.3723])\n",
            "x[1, :] tensor([0.2623, 0.9283, 0.4906])\n",
            "x[1,1] tensor(0.9283)\n",
            "x[1,1].item() 0.9283342361450195\n"
          ]
        }
      ]
    },
    {
      "cell_type": "markdown",
      "source": [
        "形を変える　これって使うの？"
      ],
      "metadata": {
        "id": "pVjLe1N_8T3G"
      }
    },
    {
      "cell_type": "code",
      "source": [
        "x = torch.randn(4,4)\n",
        "y = x.view(16)\n",
        "z = x.view(-1, 8)\n",
        "print(x.size(), y.size(), z.size())"
      ],
      "metadata": {
        "colab": {
          "base_uri": "https://localhost:8080/"
        },
        "id": "mNRZE1EY7Dqx",
        "outputId": "cd423b02-4935-48b6-a1ef-339b39326719"
      },
      "execution_count": null,
      "outputs": [
        {
          "output_type": "stream",
          "name": "stdout",
          "text": [
            "torch.Size([4, 4]) torch.Size([16]) torch.Size([2, 8])\n"
          ]
        }
      ]
    },
    {
      "cell_type": "markdown",
      "source": [
        "## NumPy\n",
        "Converting a Torch Tensor to a NumPy array and vice versa is very easy"
      ],
      "metadata": {
        "id": "uhrGePLt8tNN"
      }
    },
    {
      "cell_type": "code",
      "source": [
        "a = torch.ones(5)\n",
        "print(a, type(a))\n",
        "\n",
        "# torch to numpy with .numpy()\n",
        "# torchからnumpyに変換　次の注意を要チェック\n",
        "b = a.numpy()\n",
        "print(b, type(b))"
      ],
      "metadata": {
        "id": "43_igE3l8qMN",
        "colab": {
          "base_uri": "https://localhost:8080/"
        },
        "outputId": "bab00263-f94e-416c-8ff3-33826b1d0341"
      },
      "execution_count": null,
      "outputs": [
        {
          "output_type": "stream",
          "name": "stdout",
          "text": [
            "tensor([1., 1., 1., 1., 1.]) <class 'torch.Tensor'>\n",
            "[1. 1. 1. 1. 1.] <class 'numpy.ndarray'>\n"
          ]
        }
      ]
    },
    {
      "cell_type": "markdown",
      "source": [
        "**注意！**\n",
        "もしテンソルがCPU上に存在すると、どちらのオブジェクトもメモリ上の同じ場所を共有する。\n",
        "したがって、一つを変更するともう一つも変更されてしまう。（GPUではそうならない）"
      ],
      "metadata": {
        "id": "mys5KYi7OtwV"
      }
    },
    {
      "cell_type": "code",
      "source": [
        "# Careful: If the Tensor is on the CPU (not the GPU),\n",
        "# both objects will share the same memory location, so cahnging one\n",
        "# will also change the other\n",
        "a.add_(1)\n",
        "print(a)\n",
        "print(b) # こっちはndarrayなのに変わっている！！！"
      ],
      "metadata": {
        "colab": {
          "base_uri": "https://localhost:8080/"
        },
        "id": "Dq21zac8OW9A",
        "outputId": "8c26cc30-966a-4bec-d7b8-a2ba043b10c2"
      },
      "execution_count": null,
      "outputs": [
        {
          "output_type": "stream",
          "name": "stdout",
          "text": [
            "tensor([3., 3., 3., 3., 3.])\n",
            "[3. 3. 3. 3. 3.]\n"
          ]
        }
      ]
    },
    {
      "cell_type": "code",
      "source": [
        "# numpy to torch with .from_numpy(x), or torch.tensor() to copy it\n",
        "# numpyからtorchに変換するときも注意\n",
        "import numpy as np\n",
        "a = np.ones(5)\n",
        "b = torch.from_numpy(a)\n",
        "c = torch.tensor(a)\n",
        "\n",
        "print(a)\n",
        "print(b)\n",
        "print(c)\n",
        "\n",
        "# again be careful when modifying\n",
        "a += 1\n",
        "print(a)\n",
        "print(b)\n",
        "print(c)"
      ],
      "metadata": {
        "colab": {
          "base_uri": "https://localhost:8080/"
        },
        "id": "yPiCG_vaPVkx",
        "outputId": "1adf03dd-fdc1-4780-f444-185fbd3b7c3d"
      },
      "execution_count": null,
      "outputs": [
        {
          "output_type": "stream",
          "name": "stdout",
          "text": [
            "[1. 1. 1. 1. 1.]\n",
            "tensor([1., 1., 1., 1., 1.], dtype=torch.float64)\n",
            "tensor([1., 1., 1., 1., 1.], dtype=torch.float64)\n",
            "[2. 2. 2. 2. 2.]\n",
            "tensor([2., 2., 2., 2., 2.], dtype=torch.float64)\n",
            "tensor([1., 1., 1., 1., 1.], dtype=torch.float64)\n"
          ]
        }
      ]
    },
    {
      "cell_type": "markdown",
      "source": [
        "## GPU Support\n",
        "By default all tensors are created on the CPU. But we can also move them to the GPU, or create them directly on the GPU."
      ],
      "metadata": {
        "id": "UHoX1fVRRVLN"
      }
    },
    {
      "cell_type": "code",
      "source": [
        "device = torch.device('cuda' if torch.cuda.is_available() else 'cpu')\n",
        "\n",
        "x = torch.rand(2, 2).to(device) # move tensors to GPU device\n",
        "x = torch.rand(2, 2, device=device) # or directly create them on GPU"
      ],
      "metadata": {
        "colab": {
          "base_uri": "https://localhost:8080/"
        },
        "id": "ENW7fHW_Qy8w",
        "outputId": "30da57af-5c30-47ce-ebe9-f3b6b8758d62"
      },
      "execution_count": null,
      "outputs": [
        {
          "output_type": "execute_result",
          "data": {
            "text/plain": [
              "device(type='cpu')"
            ]
          },
          "metadata": {},
          "execution_count": 18
        }
      ]
    },
    {
      "cell_type": "markdown",
      "source": [
        "# Autograd\n",
        "The autograd package provides automatic differentiation for all operations on Tensors.\n",
        "これはpytorchでエッセンシャルな部分\n",
        "requires_grad=Trueを設定すると、テンソルに対して行われる操作が計算グラフに記録される"
      ],
      "metadata": {
        "id": "CZ0foF0dUqZn"
      }
    },
    {
      "cell_type": "code",
      "source": [
        "import torch\n",
        "\n",
        "# requires_Grad = True -> tracks all operations on the tensor.\n",
        "x = torch.randn(3, requires_grad=True)\n",
        "y = x + 2\n",
        "\n",
        "# y was created as a result of an operation, so it has a grad_fn attribute.\n",
        "# grad_fn: references a function that has created the Tensor\n",
        "print(x) # created by the user -> grad_fn is None\n",
        "print(y)\n",
        "print(y.grad_fn)"
      ],
      "metadata": {
        "colab": {
          "base_uri": "https://localhost:8080/"
        },
        "id": "vJewDo_pUSBa",
        "outputId": "a7b69662-4090-44b1-a7ed-84b786c448b8"
      },
      "execution_count": null,
      "outputs": [
        {
          "output_type": "stream",
          "name": "stdout",
          "text": [
            "tensor([-0.5425, -0.5368, -0.5142], requires_grad=True)\n",
            "tensor([1.4575, 1.4632, 1.4858], grad_fn=<AddBackward0>)\n",
            "<AddBackward0 object at 0x7811bf3e0b50>\n"
          ]
        }
      ]
    },
    {
      "cell_type": "code",
      "source": [
        "# Do more operations on y\n",
        "z = y * y * 3\n",
        "print(z)\n",
        "z = z.mean()\n",
        "print(z)"
      ],
      "metadata": {
        "colab": {
          "base_uri": "https://localhost:8080/"
        },
        "id": "OVeVW2eZCbAx",
        "outputId": "4bad6d43-097a-42b5-e34f-f2ad4647440f"
      },
      "execution_count": null,
      "outputs": [
        {
          "output_type": "stream",
          "name": "stdout",
          "text": [
            "tensor([6.3726, 6.4225, 6.6232], grad_fn=<MulBackward0>)\n",
            "tensor(6.4728, grad_fn=<MeanBackward0>)\n"
          ]
        }
      ]
    },
    {
      "cell_type": "markdown",
      "source": [
        "Let's compute the gradients with backpropagation\n",
        "When we finish our computation we can call .backward() and have all the gradients computed automatically.\n",
        "The gradient for this tensor will be accumlated int .grad attribute.\n",
        "It is tha partial derivate of the function w.r.t. the tensor."
      ],
      "metadata": {
        "id": "Q95wNl7iDjck"
      }
    },
    {
      "cell_type": "code",
      "source": [
        "print(x.grad) # この時点でxは grad アトリビュートを持っていないのでnoneになる\n",
        "z.backward()\n",
        "print(x.grad)\n",
        "\n",
        "# !!!注意!!!　backward() accumlates the gradient for this tensor into .grad attribute.\n",
        "# We need to be careful during optimization !!! optimaizer.zero_grad()"
      ],
      "metadata": {
        "colab": {
          "base_uri": "https://localhost:8080/"
        },
        "id": "b9d37taRC5SR",
        "outputId": "18bd13ca-942e-49d5-bd70-a254137a30aa"
      },
      "execution_count": null,
      "outputs": [
        {
          "output_type": "stream",
          "name": "stdout",
          "text": [
            "None\n",
            "tensor([2.9149, 2.9263, 2.9717])\n"
          ]
        }
      ]
    },
    {
      "cell_type": "markdown",
      "source": [
        "## Stop a tensor from tracking history:\n",
        "For example during the training loop when we want to update our weights, or after training during evaluation. These operations should not be part of the gradient computation. To prevent this, we can use:\n",
        "\n",
        "\n",
        "*   `x.requires_grad_(False)`\n",
        "*   `x.detach()`\n",
        "*   wrap in `with torch.no_grad():`"
      ],
      "metadata": {
        "id": "_3ham45EE-qw"
      }
    },
    {
      "cell_type": "markdown",
      "source": [
        "後から計算グラフのトラッキング(grad)を有効にする。<br>\n",
        ".requires_grad_(...) changes an existing flag in-place."
      ],
      "metadata": {
        "id": "MvDXQeOhDPf2"
      }
    },
    {
      "cell_type": "code",
      "source": [
        "a = torch.randn(2, 2) # gradなしでインスタンスを作成\n",
        "b = (a * a).sum()\n",
        "print(a.requires_grad)\n",
        "print(b.grad_fn)\n",
        "\n",
        "a.requires_grad_(True) # 途中でgrad Trueへ変更したので、後でbackwardが出る\n",
        "b = (a * a).sum()\n",
        "print(a.requires_grad)\n",
        "print(b.grad_fn)"
      ],
      "metadata": {
        "colab": {
          "base_uri": "https://localhost:8080/"
        },
        "id": "Y10tb-lxEU7_",
        "outputId": "21bdd1ba-c415-4f63-fe2b-9d1deabf2cc7"
      },
      "execution_count": null,
      "outputs": [
        {
          "output_type": "stream",
          "name": "stdout",
          "text": [
            "False\n",
            "None\n",
            "True\n",
            "<SumBackward0 object at 0x7d2d4ba338b0>\n"
          ]
        }
      ]
    },
    {
      "cell_type": "markdown",
      "source": [
        "後から計算グラフのトラッキング(grad)を無効にする。<br>\n",
        ".detach(): get a new Tensor with the same content but no gradient coumputation:"
      ],
      "metadata": {
        "id": "NkRggFT9DVIl"
      }
    },
    {
      "cell_type": "code",
      "source": [
        "a = torch.randn(2, 2, requires_grad=True)\n",
        "b = a.detach()\n",
        "\n",
        "print(a.requires_grad)\n",
        "print(b.requires_grad)"
      ],
      "metadata": {
        "colab": {
          "base_uri": "https://localhost:8080/"
        },
        "id": "gcjeeAeBEJCU",
        "outputId": "6a7cb815-7698-41dd-8154-17bcae8506b3"
      },
      "execution_count": null,
      "outputs": [
        {
          "output_type": "stream",
          "name": "stdout",
          "text": [
            "True\n",
            "False\n"
          ]
        }
      ]
    },
    {
      "cell_type": "markdown",
      "source": [
        "wrap in `with torch.no_grad():`<br>\n",
        "モデルのトレーニング後の評価でよくみる.<br>\n",
        "wを更新する際に、学習率と傾きをかけたものを与えるが、それは計算グラフとして保存せたくないので、こうする"
      ],
      "metadata": {
        "id": "E7niDZ9QEP64"
      }
    },
    {
      "cell_type": "code",
      "source": [
        "a = torch.randn(2, 2, requires_grad=True)\n",
        "print(a.requires_grad)\n",
        "with torch.no_grad():\n",
        "    b = a ** 2\n",
        "    print(b.requires_grad)"
      ],
      "metadata": {
        "colab": {
          "base_uri": "https://localhost:8080/"
        },
        "id": "nZBE5ZhmEJ9R",
        "outputId": "f0912bd2-a37a-4a29-d70c-e6d55cd7f418"
      },
      "execution_count": null,
      "outputs": [
        {
          "output_type": "stream",
          "name": "stdout",
          "text": [
            "True\n",
            "False\n"
          ]
        }
      ]
    },
    {
      "cell_type": "markdown",
      "source": [
        "## Gradient Descent Autograd<br>\n",
        "Linear Regression example:<br>\n",
        "f(x) = W * X + b<br>\n",
        "ここでは次の線型回帰を行なってみる<br>\n",
        "f(x) = 2 * x\n",
        "\n"
      ],
      "metadata": {
        "id": "qFT9GAeME3to"
      }
    },
    {
      "cell_type": "code",
      "source": [
        "import torch\n",
        "\n",
        "X = torch.tensor([1, 2, 3, 4, 5, 6, 7, 8], dtype=torch.float32)\n",
        "Y = torch.tensor([2, 4, 6, 8,10,12,14,16], dtype=torch.float32)\n",
        "\n",
        "# 重みWベクトルを0.0で初期化する、トラッキングを有効にする\n",
        "w = torch.tensor(0.0, dtype=torch.float32, requires_grad=True)\n",
        "\n",
        "# model output\n",
        "def forward(x):\n",
        "    return w * x\n",
        "\n",
        "# loss = MSE mean squaire error\n",
        "def loss(y, y_pred):\n",
        "    return ((y_pred - y)**2).mean()"
      ],
      "metadata": {
        "id": "R-ltYInSEl3_"
      },
      "execution_count": null,
      "outputs": []
    },
    {
      "cell_type": "code",
      "source": [
        "# 今作ったforward関数を試してみる.\n",
        "# 初期値は0.0に設定しており、学習していないのでxを与えても、modelの出力は0のままになる\n",
        "X_test = 5.0\n",
        "print(f'Prediction before training: f({X_test}) = {forward(X_test).item():.3f}')"
      ],
      "metadata": {
        "colab": {
          "base_uri": "https://localhost:8080/"
        },
        "id": "J6aKiXeLFoLN",
        "outputId": "a3bb1a07-e311-485d-9541-90edddb8a342"
      },
      "execution_count": null,
      "outputs": [
        {
          "output_type": "stream",
          "name": "stdout",
          "text": [
            "Prediction before training: f(5.0) = 0.000\n"
          ]
        }
      ]
    },
    {
      "cell_type": "markdown",
      "source": [
        "学習を行い、wを更新する"
      ],
      "metadata": {
        "id": "_n5sC_IMKUTa"
      }
    },
    {
      "cell_type": "code",
      "source": [
        "# Training\n",
        "learning_rate = 0.01\n",
        "n_epochs = 20\n",
        "\n",
        "X1_test = 5.0\n",
        "X2_test = 15\n",
        "\n",
        "for epoch in range(n_epochs):\n",
        "    # predict = forward pass\n",
        "    y_pred = forward(X)\n",
        "\n",
        "    # loss\n",
        "    loss_value = loss(Y, y_pred)\n",
        "\n",
        "    # caluculate gradients = backward pass\n",
        "    loss_value.backward()\n",
        "\n",
        "    # update weights\n",
        "    # w.data = w.data - learning_rate * w.grad\n",
        "    with torch.no_grad():\n",
        "        # print(w.grad)\n",
        "        w -= learning_rate * w.grad\n",
        "\n",
        "    w.grad.zero_()\n",
        "\n",
        "    if (epoch+1) % 1 == 0:\n",
        "        print(f'epoch {epoch+1}: w = {w.item():.3f} \\\n",
        "                        loss = {loss_value.item():.3f}')\n",
        "print(f\"Prediction after training: f({X1_test}) = {forward(X1_test).item():.3f}\")\n",
        "print(f\"Prediction after training: f({X2_test}) = {forward(X2_test).item():.3f}\")"
      ],
      "metadata": {
        "colab": {
          "base_uri": "https://localhost:8080/"
        },
        "id": "eoB4XRNuJEmv",
        "outputId": "71c6ada0-ac7e-4d6c-d4c0-b5565102cf12"
      },
      "execution_count": null,
      "outputs": [
        {
          "output_type": "stream",
          "name": "stdout",
          "text": [
            "epoch 1: w = 2.000                         loss = 0.000\n",
            "epoch 2: w = 2.000                         loss = 0.000\n",
            "epoch 3: w = 2.000                         loss = 0.000\n",
            "epoch 4: w = 2.000                         loss = 0.000\n",
            "epoch 5: w = 2.000                         loss = 0.000\n",
            "epoch 6: w = 2.000                         loss = 0.000\n",
            "epoch 7: w = 2.000                         loss = 0.000\n",
            "epoch 8: w = 2.000                         loss = 0.000\n",
            "epoch 9: w = 2.000                         loss = 0.000\n",
            "epoch 10: w = 2.000                         loss = 0.000\n",
            "epoch 11: w = 2.000                         loss = 0.000\n",
            "epoch 12: w = 2.000                         loss = 0.000\n",
            "epoch 13: w = 2.000                         loss = 0.000\n",
            "epoch 14: w = 2.000                         loss = 0.000\n",
            "epoch 15: w = 2.000                         loss = 0.000\n",
            "epoch 16: w = 2.000                         loss = 0.000\n",
            "epoch 17: w = 2.000                         loss = 0.000\n",
            "epoch 18: w = 2.000                         loss = 0.000\n",
            "epoch 19: w = 2.000                         loss = 0.000\n",
            "epoch 20: w = 2.000                         loss = 0.000\n",
            "Prediction after training: f(5.0) = 10.000\n",
            "Prediction after training: f(15) = 30.000\n"
          ]
        }
      ]
    },
    {
      "cell_type": "markdown",
      "source": [
        "# 3. Model, Loss & Optimizer on MNIST\n",
        "A typical PyTorch pipeline looks like this:<br>\n",
        "\n",
        "\n",
        "1.   Forward = compute prediction and loss\n",
        "2.   Backward = compute gradients\n",
        "3.   Update weights\n",
        "\n"
      ],
      "metadata": {
        "id": "RGf77QxldJ2f"
      }
    },
    {
      "cell_type": "markdown",
      "source": [
        "一つ前のステップではいろいろなことを自分自身で関数を書いてきた。wテンソルや順方向の計算など"
      ],
      "metadata": {
        "id": "ZGTdEHi5230N"
      }
    },
    {
      "cell_type": "code",
      "source": [
        "import torch\n",
        "import torch.nn as nn\n",
        "\n",
        "# Linear regression\n",
        "# f = w * x\n",
        "# here : f = 2 * x\n",
        "\n",
        "# 0) Training samples, watch the shape!\n",
        "# PyTorchのモデルクラスが特定の形しか受け付けないので、インナーリストを使っている\n",
        "X = torch.tensor([[1], [2], [3], [4], [5], [6], [7], [8]], dtype=torch.float32)\n",
        "Y = torch.tensor([[2], [4], [6], [8],[10],[12],[14],[16]], dtype=torch.float32)\n",
        "Y.add_(3)\n",
        "\n",
        "n_samples, n_features = X.shape\n",
        "print(f'n_sample = {n_samples}, n_features = {n_features}')\n",
        "\n",
        "# 0) create a test sample\n",
        "X_test = torch.tensor([5], dtype=torch.float32)"
      ],
      "metadata": {
        "id": "CTPUwhkxJ8jP",
        "colab": {
          "base_uri": "https://localhost:8080/"
        },
        "outputId": "859346d7-df0a-422e-bfd5-ecae2ca32ed6"
      },
      "execution_count": null,
      "outputs": [
        {
          "output_type": "stream",
          "name": "stdout",
          "text": [
            "n_sample = 8, n_features = 1\n"
          ]
        }
      ]
    },
    {
      "cell_type": "markdown",
      "source": [
        "## 1. Design Model, the model has to implement the forward pass!\n",
        "Here we could simply use a built-in model from PyTorch.<br>\n",
        "model = nn.Linear(input_size, output_size)\n",
        "\n"
      ],
      "metadata": {
        "id": "1Q8GaQVPSM3W"
      }
    },
    {
      "cell_type": "code",
      "source": [
        "# PyTorchモデルクラスはいつもnn.Moduleから継承する\n",
        "class LinearRegression(nn.Module):\n",
        "    def __init__(self, input_dim, output_dim):\n",
        "        super(LinearRegression, self).__init__()\n",
        "        # define different layers\n",
        "        self.lin = nn.Linear(input_dim, output_dim)\n",
        "\n",
        "    def forward(self, x):\n",
        "        return self.lin(x)\n",
        "\n",
        "\n",
        "input_size, output_size = n_features, n_features\n",
        "\n",
        "model = LinearRegression(input_size, output_size)\n",
        "\n",
        "print(f\"Prediction before training: \\\n",
        "    f({X_test.item()}) = {model(X_test).item():.3f}\")\n",
        "\n",
        "# 2) Define loss and optimizer\n",
        "learning_rate = 0.01\n",
        "n_epochs = 500\n",
        "\n",
        "loss = nn.MSELoss() # mean squaire error\n",
        "# 確率的勾配降下法（SGD: Stochastic Gradient Descent）\n",
        "# パラメータの更新を勾配の方向に進めることで、損失関数を最小化します。\n",
        "optimizer = torch.optim.SGD(model.parameters(), lr=learning_rate)\n",
        "\n",
        "# 3) Training loop\n",
        "for epoch in range(n_epochs):\n",
        "    # predict = forward pass with our model\n",
        "    y_predicted = model(X)\n",
        "\n",
        "    # loss\n",
        "    l = loss(Y, y_predicted)\n",
        "\n",
        "    # calculate gradients = backward pass\n",
        "    l.backward()\n",
        "\n",
        "    # update weights\n",
        "    optimizer.step()\n",
        "\n",
        "    # zero the gradients after updating\n",
        "    optimizer.zero_grad()\n",
        "\n",
        "    if (epoch+1) % 10 == 0:\n",
        "        w, b = model.parameters() # unpack parameters\n",
        "        print('epoch ', epoch+1, ': w = ', w[0][0].item(), \\\n",
        "              ': b = ', b.item(), ' loss = ', l.item())\n",
        "\n",
        "print(f'Prediction after training: f({X_test.item()}) = {model(X_test).item():.3f}')"
      ],
      "metadata": {
        "colab": {
          "base_uri": "https://localhost:8080/"
        },
        "id": "TWoItk2N6O-y",
        "outputId": "09aa1ba8-0a7f-4fc2-846f-17d7cef67add"
      },
      "execution_count": null,
      "outputs": [
        {
          "output_type": "stream",
          "name": "stdout",
          "text": [
            "Prediction before training:     f(5.0) = -3.772\n",
            "epoch  10 : w =  2.379188299179077 : b =  0.8574907779693604  loss =  0.953005313873291\n",
            "epoch  20 : w =  2.3660731315612793 : b =  0.9418184757232666  loss =  0.8793575167655945\n",
            "epoch  30 : w =  2.3517189025878906 : b =  1.0225275754928589  loss =  0.8117431998252869\n",
            "epoch  40 : w =  2.3379268646240234 : b =  1.1000715494155884  loss =  0.7493292689323425\n",
            "epoch  50 : w =  2.3246755599975586 : b =  1.1745749711990356  loss =  0.6917127966880798\n",
            "epoch  60 : w =  2.311943769454956 : b =  1.2461568117141724  loss =  0.6385270953178406\n",
            "epoch  70 : w =  2.299711227416992 : b =  1.3149313926696777  loss =  0.5894315838813782\n",
            "epoch  80 : w =  2.2879583835601807 : b =  1.3810093402862549  loss =  0.5441100597381592\n",
            "epoch  90 : w =  2.2766664028167725 : b =  1.4444959163665771  loss =  0.502273678779602\n",
            "epoch  100 : w =  2.265817403793335 : b =  1.505492925643921  loss =  0.46365413069725037\n",
            "epoch  110 : w =  2.2553937435150146 : b =  1.5640978813171387  loss =  0.4280039668083191\n",
            "epoch  120 : w =  2.2453787326812744 : b =  1.6204049587249756  loss =  0.39509493112564087\n",
            "epoch  130 : w =  2.2357566356658936 : b =  1.674504041671753  loss =  0.3647160828113556\n",
            "epoch  140 : w =  2.2265117168426514 : b =  1.7264814376831055  loss =  0.3366732895374298\n",
            "epoch  150 : w =  2.2176294326782227 : b =  1.7764208316802979  loss =  0.31078675389289856\n",
            "epoch  160 : w =  2.2090954780578613 : b =  1.8244017362594604  loss =  0.28689026832580566\n",
            "epoch  170 : w =  2.2008960247039795 : b =  1.8705012798309326  loss =  0.2648315131664276\n",
            "epoch  180 : w =  2.1930181980133057 : b =  1.9147931337356567  loss =  0.24446843564510345\n",
            "epoch  190 : w =  2.1854491233825684 : b =  1.9573479890823364  loss =  0.2256714105606079\n",
            "epoch  200 : w =  2.1781771183013916 : b =  1.9982341527938843  loss =  0.20831966400146484\n",
            "epoch  210 : w =  2.171190023422241 : b =  2.0375168323516846  loss =  0.19230227172374725\n",
            "epoch  220 : w =  2.1644771099090576 : b =  2.0752596855163574  loss =  0.17751580476760864\n",
            "epoch  230 : w =  2.158027172088623 : b =  2.1115219593048096  loss =  0.1638670414686203\n",
            "epoch  240 : w =  2.1518304347991943 : b =  2.146362543106079  loss =  0.1512673795223236\n",
            "epoch  250 : w =  2.14587664604187 : b =  2.1798367500305176  loss =  0.13963663578033447\n",
            "epoch  260 : w =  2.1401562690734863 : b =  2.211998462677002  loss =  0.1288997232913971\n",
            "epoch  270 : w =  2.134660243988037 : b =  2.242899179458618  loss =  0.11898868530988693\n",
            "epoch  280 : w =  2.1293797492980957 : b =  2.272587776184082  loss =  0.10983966290950775\n",
            "epoch  290 : w =  2.1243062019348145 : b =  2.301112413406372  loss =  0.10139400511980057\n",
            "epoch  300 : w =  2.119431734085083 : b =  2.3285181522369385  loss =  0.09359799325466156\n",
            "epoch  310 : w =  2.114748477935791 : b =  2.354849338531494  loss =  0.08640118688344955\n",
            "epoch  320 : w =  2.1102488040924072 : b =  2.38014817237854  loss =  0.07975775748491287\n",
            "epoch  330 : w =  2.1059253215789795 : b =  2.4044549465179443  loss =  0.07362514734268188\n",
            "epoch  340 : w =  2.101771593093872 : b =  2.4278085231781006  loss =  0.06796418875455856\n",
            "epoch  350 : w =  2.097780704498291 : b =  2.4502463340759277  loss =  0.06273846328258514\n",
            "epoch  360 : w =  2.0939464569091797 : b =  2.471804141998291  loss =  0.0579146072268486\n",
            "epoch  370 : w =  2.0902624130249023 : b =  2.49251651763916  loss =  0.05346158891916275\n",
            "epoch  380 : w =  2.0867230892181396 : b =  2.512416362762451  loss =  0.049351003021001816\n",
            "epoch  390 : w =  2.083322286605835 : b =  2.53153657913208  loss =  0.04555639624595642\n",
            "epoch  400 : w =  2.080054998397827 : b =  2.5499064922332764  loss =  0.04205358773469925\n",
            "epoch  410 : w =  2.076915740966797 : b =  2.567556381225586  loss =  0.03882011026144028\n",
            "epoch  420 : w =  2.073899745941162 : b =  2.5845139026641846  loss =  0.03583522140979767\n",
            "epoch  430 : w =  2.0710017681121826 : b =  2.600806474685669  loss =  0.03307997062802315\n",
            "epoch  440 : w =  2.0682175159454346 : b =  2.6164603233337402  loss =  0.03053644672036171\n",
            "epoch  450 : w =  2.065542459487915 : b =  2.631500005722046  loss =  0.028188522905111313\n",
            "epoch  460 : w =  2.0629723072052 : b =  2.6459500789642334  loss =  0.026021134108304977\n",
            "epoch  470 : w =  2.0605030059814453 : b =  2.6598336696624756  loss =  0.024020444601774216\n",
            "epoch  480 : w =  2.0581305027008057 : b =  2.673172950744629  loss =  0.022173546254634857\n",
            "epoch  490 : w =  2.0558507442474365 : b =  2.6859889030456543  loss =  0.020468616858124733\n",
            "epoch  500 : w =  2.0536608695983887 : b =  2.6983022689819336  loss =  0.018894817680120468\n",
            "Prediction after training: f(5.0) = 12.967\n"
          ]
        }
      ]
    },
    {
      "cell_type": "markdown",
      "source": [
        "# First Nural Network\n",
        "GPU, Datasets, DataLoader, Transforms, Neural Net, Training & Evaluation"
      ],
      "metadata": {
        "id": "8DXEs3jN49ej"
      }
    },
    {
      "cell_type": "code",
      "source": [
        "import torch\n",
        "import torch.nn as nn\n",
        "import torchvision\n",
        "import torchvision.transforms as transforms\n",
        "import matplotlib.pyplot as plt\n",
        "\n",
        "# Device configuration\n",
        "device = torch.device(\"cuda\" if torch.cuda.is_available() else \"cpu\")\n",
        "\n",
        "# Hyper-parameters\n",
        "input_size = 784 # 28 * 28\n",
        "hidden_size = 500\n",
        "num_classes = 10\n",
        "num_epochs = 2\n",
        "batch_size = 100\n",
        "learning_rate = 0.001\n",
        "\n",
        "# MNIST dataset\n",
        "train_dataset = torchvision.datasets.MNIST(root='./data',\n",
        "                                           train=True,\n",
        "                                           transform=transforms.ToTensor(),\n",
        "                                           download=True)\n",
        "\n",
        "test_dataset = torchvision.datasets.MNIST(root='./data',\n",
        "                                           train=False,\n",
        "                                           transform=transforms.ToTensor())\n",
        "\n",
        "# Data loader\n",
        "train_loader = torch.utils.data.DataLoader(dataset=train_dataset,\n",
        "                                           batch_size=batch_size,\n",
        "                                           shuffle=True)\n",
        "\n",
        "test_loader = torch.utils.data.DataLoader(dataset=test_dataset,\n",
        "                                          batch_size=batch_size,\n",
        "                                          shuffle=False)\n",
        "\n",
        "examples = iter(test_loader)\n",
        "example_data, example_targets = next(examples)\n",
        "\n",
        "for i in range(6):\n",
        "    plt.subplot(2,3,i+1) # 一つの描画キャンパスを複数の領域に分割する\n",
        "    # 引数の説明（行の分割数,列の分割数,これからグラフを書くのに入り要するサブ領域の番号）\n",
        "    plt.imshow(example_data[i][0], cmap=\"gray\")\n",
        "plt.show()"
      ],
      "metadata": {
        "id": "VY2LNmcYRK0U",
        "colab": {
          "base_uri": "https://localhost:8080/",
          "height": 771
        },
        "outputId": "35bbbc46-853f-4543-b86f-193365bb8048"
      },
      "execution_count": null,
      "outputs": [
        {
          "output_type": "stream",
          "name": "stdout",
          "text": [
            "Downloading http://yann.lecun.com/exdb/mnist/train-images-idx3-ubyte.gz\n",
            "Downloading http://yann.lecun.com/exdb/mnist/train-images-idx3-ubyte.gz to ./data/MNIST/raw/train-images-idx3-ubyte.gz\n"
          ]
        },
        {
          "output_type": "stream",
          "name": "stderr",
          "text": [
            "100%|██████████| 9912422/9912422 [00:00<00:00, 60859455.84it/s]\n"
          ]
        },
        {
          "output_type": "stream",
          "name": "stdout",
          "text": [
            "Extracting ./data/MNIST/raw/train-images-idx3-ubyte.gz to ./data/MNIST/raw\n",
            "\n",
            "Downloading http://yann.lecun.com/exdb/mnist/train-labels-idx1-ubyte.gz\n",
            "Downloading http://yann.lecun.com/exdb/mnist/train-labels-idx1-ubyte.gz to ./data/MNIST/raw/train-labels-idx1-ubyte.gz\n"
          ]
        },
        {
          "output_type": "stream",
          "name": "stderr",
          "text": [
            "100%|██████████| 28881/28881 [00:00<00:00, 108544528.52it/s]"
          ]
        },
        {
          "output_type": "stream",
          "name": "stdout",
          "text": [
            "Extracting ./data/MNIST/raw/train-labels-idx1-ubyte.gz to ./data/MNIST/raw\n",
            "\n",
            "Downloading http://yann.lecun.com/exdb/mnist/t10k-images-idx3-ubyte.gz\n",
            "Downloading http://yann.lecun.com/exdb/mnist/t10k-images-idx3-ubyte.gz to ./data/MNIST/raw/t10k-images-idx3-ubyte.gz\n"
          ]
        },
        {
          "output_type": "stream",
          "name": "stderr",
          "text": [
            "\n",
            "100%|██████████| 1648877/1648877 [00:00<00:00, 29808591.86it/s]\n"
          ]
        },
        {
          "output_type": "stream",
          "name": "stdout",
          "text": [
            "Extracting ./data/MNIST/raw/t10k-images-idx3-ubyte.gz to ./data/MNIST/raw\n",
            "\n",
            "Downloading http://yann.lecun.com/exdb/mnist/t10k-labels-idx1-ubyte.gz\n",
            "Downloading http://yann.lecun.com/exdb/mnist/t10k-labels-idx1-ubyte.gz to ./data/MNIST/raw/t10k-labels-idx1-ubyte.gz\n"
          ]
        },
        {
          "output_type": "stream",
          "name": "stderr",
          "text": [
            "100%|██████████| 4542/4542 [00:00<00:00, 22100381.40it/s]"
          ]
        },
        {
          "output_type": "stream",
          "name": "stdout",
          "text": [
            "Extracting ./data/MNIST/raw/t10k-labels-idx1-ubyte.gz to ./data/MNIST/raw\n",
            "\n"
          ]
        },
        {
          "output_type": "stream",
          "name": "stderr",
          "text": [
            "\n"
          ]
        },
        {
          "output_type": "display_data",
          "data": {
            "text/plain": [
              "<Figure size 640x480 with 6 Axes>"
            ],
            "image/png": "[encoded data removed]"
          },
          "metadata": {}
        }
      ]
    },
    {
      "cell_type": "code",
      "source": [
        "# Fully connected neural network with one hidden layer\n",
        "class NeuralNet(nn.Module):\n",
        "    def __init__(self, input_size, hidden_size, num_classes):\n",
        "        super(NeuralNet, self).__init__()\n",
        "        self.l1 = nn.Linear(input_size, hidden_size)\n",
        "        self.relu = nn.ReLU()\n",
        "        self.l2 = nn.Linear(hidden_size, num_classes)\n",
        "\n",
        "    def forward(self, x):\n",
        "        out = self.l1(x)\n",
        "        out = self.relu(out)\n",
        "        out = self.l2(out)\n",
        "        # no activation and no softmax at the end\n",
        "        # なぜなら、21行目のクロスエントロピー誤差のメソッドには生の値が必要になるから\n",
        "        # 詳細はドキュメント見て（内部的にsoftmax関数を適用するらしい）\n",
        "        return out\n",
        "\n",
        "# .to()でmodelをプッシュしている。あとでテンソルも\n",
        "model = NeuralNet(input_size, hidden_size, num_classes).to(device)\n",
        "\n",
        "#Loss and optimizer\n",
        "criterion = nn.CrossEntropyLoss()\n",
        "optimizer = torch.optim.Adam(model.parameters(), lr=learning_rate)\n",
        "\n",
        "# Train the model\n",
        "n_total_steps = len(train_loader)\n",
        "for epoch in range(num_epochs):\n",
        "    for i, (images, labels) in enumerate(train_loader):\n",
        "        # origin shape: [100, 1, 28, 28]\n",
        "        # resized: [100,784]\n",
        "        images = images.reshape(-1, 28*28).to(device)\n",
        "        labels = labels.to(device)\n",
        "\n",
        "        # Forward pass and loss calcluation\n",
        "        outputs = model(images)\n",
        "        loss = criterion(outputs, labels)\n",
        "\n",
        "        # Backward and optimize\n",
        "        loss.backward()\n",
        "        optimizer.step()\n",
        "        optimizer.zero_grad()\n",
        "\n",
        "        if (i+1) % 100 == 0:\n",
        "            print(f\"Epoch [{epoch+1}/{num_epochs}], Step [{i+1}/{n_total_steps}], Loss: {loss.item():.4f}\")"
      ],
      "metadata": {
        "id": "2jZyJskq9ZIb",
        "colab": {
          "base_uri": "https://localhost:8080/"
        },
        "outputId": "58c12c40-5229-4405-e090-8c5b65db7e14"
      },
      "execution_count": null,
      "outputs": [
        {
          "output_type": "stream",
          "name": "stdout",
          "text": [
            "Epoch [1/2], Step [100/600], Loss: 0.2858\n",
            "Epoch [1/2], Step [200/600], Loss: 0.2519\n",
            "Epoch [1/2], Step [300/600], Loss: 0.2105\n",
            "Epoch [1/2], Step [400/600], Loss: 0.1983\n",
            "Epoch [1/2], Step [500/600], Loss: 0.1087\n",
            "Epoch [1/2], Step [600/600], Loss: 0.0779\n",
            "Epoch [2/2], Step [100/600], Loss: 0.1289\n",
            "Epoch [2/2], Step [200/600], Loss: 0.1050\n",
            "Epoch [2/2], Step [300/600], Loss: 0.0857\n",
            "Epoch [2/2], Step [400/600], Loss: 0.1477\n",
            "Epoch [2/2], Step [500/600], Loss: 0.0799\n",
            "Epoch [2/2], Step [600/600], Loss: 0.0670\n"
          ]
        }
      ]
    },
    {
      "cell_type": "markdown",
      "source": [
        "## トレーニング後のテストを行う"
      ],
      "metadata": {
        "id": "WspzULQIqeou"
      }
    },
    {
      "cell_type": "code",
      "source": [
        "# Test the model: we dont't need to compute gradients\n",
        "with torch.no_grad():\n",
        "    n_correct = 0\n",
        "    n_samples = len(test_loader.dataset)\n",
        "\n",
        "    for images, labels in test_loader:\n",
        "        # テスト用のデータをリシェイプする必要がある\n",
        "        images = images.reshape(-1, 28*28).to(device)\n",
        "        labels = labels.to(device)\n",
        "\n",
        "        outputs = model(images) # This is RAW data, not ReLU appried!\n",
        "\n",
        "        # max returns (output_value , index)\n",
        "        _, predicted = torch.max(outputs, 1)\n",
        "        n_correct += (predicted == labels).sum().item()\n",
        "\n",
        "    acc = n_correct / n_samples\n",
        "    print(f\"Accuracy of the network on the {n_samples} test images: {100*acc} %\")\n"
      ],
      "metadata": {
        "colab": {
          "base_uri": "https://localhost:8080/"
        },
        "id": "6DMHjE_VossL",
        "outputId": "82cc63df-1d58-49b4-c081-7d78ed33cf3e"
      },
      "execution_count": null,
      "outputs": [
        {
          "output_type": "stream",
          "name": "stdout",
          "text": [
            "Accuracy of the network on the 10000 test images: 97.11999999999999 %\n"
          ]
        }
      ]
    },
    {
      "cell_type": "code",
      "source": [
        "for images, labels in test_loader:\n",
        "    plt.imshow(images[1], cmap=\"gray\")"
      ],
      "metadata": {
        "colab": {
          "base_uri": "https://localhost:8080/",
          "height": 756
        },
        "id": "AYaVSJKBssKC",
        "outputId": "24e963d9-fe1a-4d01-9628-4705c567ad77"
      },
      "execution_count": null,
      "outputs": [
        {
          "output_type": "error",
          "ename": "TypeError",
          "evalue": "ignored",
          "traceback": [
            "\u001b[0;31m---------------------------------------------------------------------------\u001b[0m",
            "\u001b[0;31mTypeError\u001b[0m                                 Traceback (most recent call last)",
            "\u001b[0;32m<ipython-input-8-4e896d75496c>\u001b[0m in \u001b[0;36m<cell line: 1>\u001b[0;34m()\u001b[0m\n\u001b[1;32m      1\u001b[0m \u001b[0;32mfor\u001b[0m \u001b[0mimages\u001b[0m\u001b[0;34m,\u001b[0m \u001b[0mlabels\u001b[0m \u001b[0;32min\u001b[0m \u001b[0mtest_loader\u001b[0m\u001b[0;34m:\u001b[0m\u001b[0;34m\u001b[0m\u001b[0;34m\u001b[0m\u001b[0m\n\u001b[0;32m----> 2\u001b[0;31m     \u001b[0mplt\u001b[0m\u001b[0;34m.\u001b[0m\u001b[0mimshow\u001b[0m\u001b[0;34m(\u001b[0m\u001b[0mimages\u001b[0m\u001b[0;34m[\u001b[0m\u001b[0;36m1\u001b[0m\u001b[0;34m]\u001b[0m\u001b[0;34m,\u001b[0m \u001b[0mcmap\u001b[0m\u001b[0;34m=\u001b[0m\u001b[0;34m\"gray\"\u001b[0m\u001b[0;34m)\u001b[0m\u001b[0;34m\u001b[0m\u001b[0;34m\u001b[0m\u001b[0m\n\u001b[0m",
            "\u001b[0;32m/usr/local/lib/python3.10/dist-packages/matplotlib/pyplot.py\u001b[0m in \u001b[0;36mimshow\u001b[0;34m(X, cmap, norm, aspect, interpolation, alpha, vmin, vmax, origin, extent, interpolation_stage, filternorm, filterrad, resample, url, data, **kwargs)\u001b[0m\n\u001b[1;32m   2693\u001b[0m         \u001b[0minterpolation_stage\u001b[0m\u001b[0;34m=\u001b[0m\u001b[0;32mNone\u001b[0m\u001b[0;34m,\u001b[0m \u001b[0mfilternorm\u001b[0m\u001b[0;34m=\u001b[0m\u001b[0;32mTrue\u001b[0m\u001b[0;34m,\u001b[0m \u001b[0mfilterrad\u001b[0m\u001b[0;34m=\u001b[0m\u001b[0;36m4.0\u001b[0m\u001b[0;34m,\u001b[0m\u001b[0;34m\u001b[0m\u001b[0;34m\u001b[0m\u001b[0m\n\u001b[1;32m   2694\u001b[0m         resample=None, url=None, data=None, **kwargs):\n\u001b[0;32m-> 2695\u001b[0;31m     __ret = gca().imshow(\n\u001b[0m\u001b[1;32m   2696\u001b[0m         \u001b[0mX\u001b[0m\u001b[0;34m,\u001b[0m \u001b[0mcmap\u001b[0m\u001b[0;34m=\u001b[0m\u001b[0mcmap\u001b[0m\u001b[0;34m,\u001b[0m \u001b[0mnorm\u001b[0m\u001b[0;34m=\u001b[0m\u001b[0mnorm\u001b[0m\u001b[0;34m,\u001b[0m \u001b[0maspect\u001b[0m\u001b[0;34m=\u001b[0m\u001b[0maspect\u001b[0m\u001b[0;34m,\u001b[0m\u001b[0;34m\u001b[0m\u001b[0;34m\u001b[0m\u001b[0m\n\u001b[1;32m   2697\u001b[0m         \u001b[0minterpolation\u001b[0m\u001b[0;34m=\u001b[0m\u001b[0minterpolation\u001b[0m\u001b[0;34m,\u001b[0m \u001b[0malpha\u001b[0m\u001b[0;34m=\u001b[0m\u001b[0malpha\u001b[0m\u001b[0;34m,\u001b[0m \u001b[0mvmin\u001b[0m\u001b[0;34m=\u001b[0m\u001b[0mvmin\u001b[0m\u001b[0;34m,\u001b[0m\u001b[0;34m\u001b[0m\u001b[0;34m\u001b[0m\u001b[0m\n",
            "\u001b[0;32m/usr/local/lib/python3.10/dist-packages/matplotlib/__init__.py\u001b[0m in \u001b[0;36minner\u001b[0;34m(ax, data, *args, **kwargs)\u001b[0m\n\u001b[1;32m   1440\u001b[0m     \u001b[0;32mdef\u001b[0m \u001b[0minner\u001b[0m\u001b[0;34m(\u001b[0m\u001b[0max\u001b[0m\u001b[0;34m,\u001b[0m \u001b[0;34m*\u001b[0m\u001b[0margs\u001b[0m\u001b[0;34m,\u001b[0m \u001b[0mdata\u001b[0m\u001b[0;34m=\u001b[0m\u001b[0;32mNone\u001b[0m\u001b[0;34m,\u001b[0m \u001b[0;34m**\u001b[0m\u001b[0mkwargs\u001b[0m\u001b[0;34m)\u001b[0m\u001b[0;34m:\u001b[0m\u001b[0;34m\u001b[0m\u001b[0;34m\u001b[0m\u001b[0m\n\u001b[1;32m   1441\u001b[0m         \u001b[0;32mif\u001b[0m \u001b[0mdata\u001b[0m \u001b[0;32mis\u001b[0m \u001b[0;32mNone\u001b[0m\u001b[0;34m:\u001b[0m\u001b[0;34m\u001b[0m\u001b[0;34m\u001b[0m\u001b[0m\n\u001b[0;32m-> 1442\u001b[0;31m             \u001b[0;32mreturn\u001b[0m \u001b[0mfunc\u001b[0m\u001b[0;34m(\u001b[0m\u001b[0max\u001b[0m\u001b[0;34m,\u001b[0m \u001b[0;34m*\u001b[0m\u001b[0mmap\u001b[0m\u001b[0;34m(\u001b[0m\u001b[0msanitize_sequence\u001b[0m\u001b[0;34m,\u001b[0m \u001b[0margs\u001b[0m\u001b[0;34m)\u001b[0m\u001b[0;34m,\u001b[0m \u001b[0;34m**\u001b[0m\u001b[0mkwargs\u001b[0m\u001b[0;34m)\u001b[0m\u001b[0;34m\u001b[0m\u001b[0;34m\u001b[0m\u001b[0m\n\u001b[0m\u001b[1;32m   1443\u001b[0m \u001b[0;34m\u001b[0m\u001b[0m\n\u001b[1;32m   1444\u001b[0m         \u001b[0mbound\u001b[0m \u001b[0;34m=\u001b[0m \u001b[0mnew_sig\u001b[0m\u001b[0;34m.\u001b[0m\u001b[0mbind\u001b[0m\u001b[0;34m(\u001b[0m\u001b[0max\u001b[0m\u001b[0;34m,\u001b[0m \u001b[0;34m*\u001b[0m\u001b[0margs\u001b[0m\u001b[0;34m,\u001b[0m \u001b[0;34m**\u001b[0m\u001b[0mkwargs\u001b[0m\u001b[0;34m)\u001b[0m\u001b[0;34m\u001b[0m\u001b[0;34m\u001b[0m\u001b[0m\n",
            "\u001b[0;32m/usr/local/lib/python3.10/dist-packages/matplotlib/axes/_axes.py\u001b[0m in \u001b[0;36mimshow\u001b[0;34m(self, X, cmap, norm, aspect, interpolation, alpha, vmin, vmax, origin, extent, interpolation_stage, filternorm, filterrad, resample, url, **kwargs)\u001b[0m\n\u001b[1;32m   5663\u001b[0m                               **kwargs)\n\u001b[1;32m   5664\u001b[0m \u001b[0;34m\u001b[0m\u001b[0m\n\u001b[0;32m-> 5665\u001b[0;31m         \u001b[0mim\u001b[0m\u001b[0;34m.\u001b[0m\u001b[0mset_data\u001b[0m\u001b[0;34m(\u001b[0m\u001b[0mX\u001b[0m\u001b[0;34m)\u001b[0m\u001b[0;34m\u001b[0m\u001b[0;34m\u001b[0m\u001b[0m\n\u001b[0m\u001b[1;32m   5666\u001b[0m         \u001b[0mim\u001b[0m\u001b[0;34m.\u001b[0m\u001b[0mset_alpha\u001b[0m\u001b[0;34m(\u001b[0m\u001b[0malpha\u001b[0m\u001b[0;34m)\u001b[0m\u001b[0;34m\u001b[0m\u001b[0;34m\u001b[0m\u001b[0m\n\u001b[1;32m   5667\u001b[0m         \u001b[0;32mif\u001b[0m \u001b[0mim\u001b[0m\u001b[0;34m.\u001b[0m\u001b[0mget_clip_path\u001b[0m\u001b[0;34m(\u001b[0m\u001b[0;34m)\u001b[0m \u001b[0;32mis\u001b[0m \u001b[0;32mNone\u001b[0m\u001b[0;34m:\u001b[0m\u001b[0;34m\u001b[0m\u001b[0;34m\u001b[0m\u001b[0m\n",
            "\u001b[0;32m/usr/local/lib/python3.10/dist-packages/matplotlib/image.py\u001b[0m in \u001b[0;36mset_data\u001b[0;34m(self, A)\u001b[0m\n\u001b[1;32m    708\u001b[0m         if not (self._A.ndim == 2\n\u001b[1;32m    709\u001b[0m                 or self._A.ndim == 3 and self._A.shape[-1] in [3, 4]):\n\u001b[0;32m--> 710\u001b[0;31m             raise TypeError(\"Invalid shape {} for image data\"\n\u001b[0m\u001b[1;32m    711\u001b[0m                             .format(self._A.shape))\n\u001b[1;32m    712\u001b[0m \u001b[0;34m\u001b[0m\u001b[0m\n",
            "\u001b[0;31mTypeError\u001b[0m: Invalid shape (1, 28, 28) for image data"
          ]
        },
        {
          "output_type": "display_data",
          "data": {
            "text/plain": [
              "<Figure size 640x480 with 1 Axes>"
            ],
            "image/png": "[encoded data removed]"
          },
          "metadata": {}
        }
      ]
    },
    {
      "cell_type": "markdown",
      "source": [
        "# CNN\n",
        "This section covers:\n",
        "- Convolutional Layers\n",
        "- MaxPooling\n",
        "-Save/Load model"
      ],
      "metadata": {
        "id": "ZOAyqQiTuuXk"
      }
    },
    {
      "cell_type": "code",
      "source": [
        "import torch\n",
        "import torch.nn as nn\n",
        "import torch.nn.functional as F\n",
        "import torchvision\n",
        "import torchvision.transforms as transforms\n",
        "import matplotlib.pyplot as plt\n",
        "import numpy as np\n",
        "\n",
        "# Device configuration\n",
        "device = torch.device(\"cuda\" if torch.cuda.is_available() else \"cpu\")\n",
        "\n",
        "# Hyoer-parameters\n",
        "num_epochs = 50\n",
        "batch_size = 32\n",
        "learning_rate = 0.001\n",
        "\n",
        "# dataset has PILImage images of range [0, 1].\n",
        "# We transform them to Tensors of normalized range [-1, 1].\n",
        "transform = transforms.Compose(\n",
        "    [transforms.ToTensor(),\n",
        "     transforms.Normalize((0.5, 0.5, 0.5), (0.5, 0.5, 0.5))]\n",
        ")\n",
        "\n",
        "# CIFAR-10: 60000 32x32 color images in 10 classes, with 6000 images per class\n",
        "train_dataset = torchvision.datasets.CIFAR10(root=\"./data\", train=True,\n",
        "                                             download=True, transform=transform)\n",
        "\n",
        "test_dataset = torchvision.datasets.CIFAR10(root=\"./data\", train=False,\n",
        "                                            download=True, transform=transform)\n",
        "\n",
        "train_loader = torch.utils.data.DataLoader(train_dataset, batch_size=batch_size,\n",
        "                                           shuffle=True)\n",
        "\n",
        "test_loader = torch.utils.data.DataLoader(test_dataset, batch_size=batch_size,\n",
        "                                          shuffle=False)\n",
        "\n",
        "classes = (\"plane\", \"car\", \"bird\", \"cat\",\n",
        "           \"deer\", \"dog\", \"frog\", \"horse\", \"ship\", \"truck\")\n",
        "\n",
        "def imshow(imgs):\n",
        "    imgs = imgs / 2 + 0.5 # unnormalize\n",
        "    npimgs = imgs.numpy()\n",
        "    plt.imshow(np.transpose(npimgs, (1, 2, 0)))\n",
        "    plt.show()\n",
        "\n",
        "# one batch of random training images\n",
        "dataiter = iter(train_loader)\n",
        "images, labels = next(dataiter) # error occoerd when \"dataiter.next()\"\"\n",
        "img_grid = torchvision.utils.make_grid(images[0:25], nrow=5)\n",
        "imshow(img_grid)"
      ],
      "metadata": {
        "id": "Hx_QUGjitU1j",
        "colab": {
          "base_uri": "https://localhost:8080/",
          "height": 468
        },
        "outputId": "aecac38b-4e1e-42a8-8488-91acc64be30a"
      },
      "execution_count": 1,
      "outputs": [
        {
          "output_type": "stream",
          "name": "stdout",
          "text": [
            "Files already downloaded and verified\n",
            "Files already downloaded and verified\n"
          ]
        },
        {
          "output_type": "display_data",
          "data": {
            "text/plain": [
              "<Figure size 640x480 with 1 Axes>"
            ],
            "image/png": "[encoded data removed]"
          },
          "metadata": {}
        }
      ]
    },
    {
      "cell_type": "markdown",
      "source": [
        "\"torchvision.transforms.Compose\" は、画像に対して一連の処理を順番に適用するためのツールです。これを使うと、例えば「画像をリサイズする → 画像を反転する → 画像の色を調整する」といった一連の処理を順番に実行することができます。\n",
        "\n",
        "考え方としては、Composeには「やりたい処理のリスト」を渡します。そして、このリストに記述された順番で処理が画像に適用されます。\n",
        "\n",
        "今回だと、まず画像をテンソルに変換し、64x64のサイズにリサイズします。"
      ],
      "metadata": {
        "id": "KF9Z6SfK7BbE"
      }
    },
    {
      "cell_type": "code",
      "source": [
        "class ConvNet(nn.Module):\n",
        "    def __init__(self):\n",
        "        super().__init__()\n",
        "        # 各レイヤーのアウトプットサイズは、次のレイヤーのインプットサイズと同じでなければならない\n",
        "        self.conv1 = nn.Conv2d(3, 32, 3) # (channel amout, output size)\n",
        "        self.pool = nn.MaxPool2d(2, 2)\n",
        "        self.conv2 = nn.Conv2d(32, 64, 3)\n",
        "        self.conv3 = nn.Conv2d(64, 64, 3)\n",
        "        self.fc1 = nn.Linear(64*4*4, 64) # flatten 何してるかわからない\n",
        "        self.fc2 = nn.Linear(64, 10)\n",
        "\n",
        "    def forward(self, x):\n",
        "        # N, 3 channel, image size = 32 x 32\n",
        "        x = F.relu(self.conv1(x)) # -> N, 32, 30, 30\n",
        "        x = self.pool(x)          # -> N, 32, 15, 15\n",
        "        x = F.relu(self.conv2(x)) # -> N, 64, 13, 13\n",
        "        # reluはinitに入れてもいいし、これみたいに独自にやってもいい。個人の好み\n",
        "        x = self.pool(x)          # -> N, 64,  6,  6\n",
        "        x = F.relu(self.conv3(x)) # -> N, 64,  4,  4\n",
        "        x = torch.flatten(x, 1)   # -> N, 1024\n",
        "        x = F.relu(self.fc1(x))   # -> N, 64\n",
        "        x = self.fc2(x)           # -> N, 10\n",
        "        return x\n",
        "\n",
        "model = ConvNet().to(device)\n",
        "\n",
        "criterion = nn.CrossEntropyLoss()\n",
        "optimizer = torch.optim.Adam(model.parameters(), lr=learning_rate)\n",
        "\n",
        "num_epochs = 100\n",
        "n_total_steps = len(train_loader)\n",
        "for epoch in range(num_epochs):\n",
        "\n",
        "    running_loss = 0.0\n",
        "\n",
        "    for i, (images, labels) in enumerate(train_loader):\n",
        "        images = images.to(device)\n",
        "        labels = labels.to(device)\n",
        "\n",
        "        # Forward pass\n",
        "        outputs = model(images)\n",
        "        loss = criterion(outputs, labels)\n",
        "\n",
        "        # Backward and optimize\n",
        "        optimizer.zero_grad()\n",
        "        loss.backward()\n",
        "        optimizer.step()\n",
        "\n",
        "        running_loss += loss.item()\n",
        "\n",
        "\n",
        "    loss_whole = running_loss / n_total_steps\n",
        "    print(f\"[{epoch + 1}] loss: {loss_whole:.3f}\")\n",
        "\n",
        "    if loss_whole < 0.08:\n",
        "        break\n",
        "\n",
        "print(\"Finished Training\")\n",
        "PATH = \"./cnn.pth\"\n",
        "torch.save(model.state_dict(), PATH)"
      ],
      "metadata": {
        "colab": {
          "base_uri": "https://localhost:8080/"
        },
        "id": "oAI-D4NP7RM9",
        "outputId": "b6f02aae-87a9-45e3-e9e6-4343ff1b38dc"
      },
      "execution_count": 2,
      "outputs": [
        {
          "output_type": "stream",
          "name": "stdout",
          "text": [
            "[1] loss: 1.521\n",
            "[2] loss: 1.156\n",
            "[3] loss: 0.995\n",
            "[4] loss: 0.887\n",
            "[5] loss: 0.817\n",
            "[6] loss: 0.756\n",
            "[7] loss: 0.708\n",
            "[8] loss: 0.664\n",
            "[9] loss: 0.625\n",
            "[10] loss: 0.590\n",
            "[11] loss: 0.557\n",
            "[12] loss: 0.530\n",
            "[13] loss: 0.504\n",
            "[14] loss: 0.479\n",
            "[15] loss: 0.454\n",
            "[16] loss: 0.432\n",
            "[17] loss: 0.406\n",
            "[18] loss: 0.385\n",
            "[19] loss: 0.366\n",
            "[20] loss: 0.347\n",
            "[21] loss: 0.328\n",
            "[22] loss: 0.312\n",
            "[23] loss: 0.301\n",
            "[24] loss: 0.287\n",
            "[25] loss: 0.274\n",
            "[26] loss: 0.260\n",
            "[27] loss: 0.250\n",
            "[28] loss: 0.241\n",
            "[29] loss: 0.230\n",
            "[30] loss: 0.226\n",
            "[31] loss: 0.212\n",
            "[32] loss: 0.204\n",
            "[33] loss: 0.196\n",
            "[34] loss: 0.198\n",
            "[35] loss: 0.182\n",
            "[36] loss: 0.181\n",
            "[37] loss: 0.180\n",
            "[38] loss: 0.173\n",
            "[39] loss: 0.169\n",
            "[40] loss: 0.164\n",
            "[41] loss: 0.156\n",
            "[42] loss: 0.161\n",
            "[43] loss: 0.147\n",
            "[44] loss: 0.149\n",
            "[45] loss: 0.148\n",
            "[46] loss: 0.142\n",
            "[47] loss: 0.143\n",
            "[48] loss: 0.138\n",
            "[49] loss: 0.131\n",
            "[50] loss: 0.137\n",
            "[51] loss: 0.130\n",
            "[52] loss: 0.128\n",
            "[53] loss: 0.126\n",
            "[54] loss: 0.122\n",
            "[55] loss: 0.126\n",
            "[56] loss: 0.122\n",
            "[57] loss: 0.123\n",
            "[58] loss: 0.120\n",
            "[59] loss: 0.117\n",
            "[60] loss: 0.116\n",
            "[61] loss: 0.123\n",
            "[62] loss: 0.114\n",
            "[63] loss: 0.113\n",
            "[64] loss: 0.108\n",
            "[65] loss: 0.106\n",
            "[66] loss: 0.116\n",
            "[67] loss: 0.101\n",
            "[68] loss: 0.111\n",
            "[69] loss: 0.103\n",
            "[70] loss: 0.104\n",
            "[71] loss: 0.105\n",
            "[72] loss: 0.101\n",
            "[73] loss: 0.095\n",
            "[74] loss: 0.099\n",
            "[75] loss: 0.101\n",
            "[76] loss: 0.106\n",
            "[77] loss: 0.098\n",
            "[78] loss: 0.089\n",
            "[79] loss: 0.105\n",
            "[80] loss: 0.093\n",
            "[81] loss: 0.095\n",
            "[82] loss: 0.097\n",
            "[83] loss: 0.092\n",
            "[84] loss: 0.099\n",
            "[85] loss: 0.094\n",
            "[86] loss: 0.086\n",
            "[87] loss: 0.097\n",
            "[88] loss: 0.089\n",
            "[89] loss: 0.086\n",
            "[90] loss: 0.093\n",
            "[91] loss: 0.098\n",
            "[92] loss: 0.088\n",
            "[93] loss: 0.095\n",
            "[94] loss: 0.080\n",
            "Finished Training\n"
          ]
        }
      ]
    },
    {
      "cell_type": "code",
      "source": [
        "loaded_model = ConvNet()\n",
        "loaded_model.load_state_dict(torch.load(PATH))\n",
        "loaded_model.to(device)\n",
        "loaded_model.eval() # set internal configuration\n",
        "\n",
        "with torch.no_grad():\n",
        "    n_correct = 0\n",
        "    n_correct2 = 0\n",
        "    n_samples = len(test_loader.dataset)\n",
        "\n",
        "    for images, labels in test_loader:\n",
        "        images = images.to(device)\n",
        "        labels = labels.to(device)\n",
        "        outputs = model(images) # model from the last time\n",
        "\n",
        "        # max returns (value, index)\n",
        "        _, predicted = torch.max(outputs, 1)\n",
        "        n_correct += (predicted == labels).sum().item() # この計算が理解できない\n",
        "\n",
        "        outputs2 = loaded_model(images) # model from the loaded model\n",
        "        _, predicted2 = torch.max(outputs2, 1)\n",
        "        n_correct2 += (predicted2 == labels).sum().item()\n",
        "\n",
        "    acc = 100.0 * n_correct / n_samples\n",
        "    print(f\"Accuracy of the model: {acc} %\")\n",
        "\n",
        "    acc = 100.0 * n_correct2 / n_samples\n",
        "    print(f\"Accuracy of the loaded model: {acc} %\")"
      ],
      "metadata": {
        "colab": {
          "base_uri": "https://localhost:8080/"
        },
        "id": "I0xfLo0XNpCm",
        "outputId": "1903a6ef-6f80-4547-ff6f-61bc04b2265e"
      },
      "execution_count": 3,
      "outputs": [
        {
          "output_type": "stream",
          "name": "stdout",
          "text": [
            "Accuracy of the model: 68.42 %\n",
            "Accuracy of the loaded model: 68.42 %\n"
          ]
        }
      ]
    },
    {
      "cell_type": "code",
      "source": [],
      "metadata": {
        "id": "qrSKYBTBUSLo"
      },
      "execution_count": null,
      "outputs": []
    }
  ]
}